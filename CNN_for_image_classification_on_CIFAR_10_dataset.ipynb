{
  "nbformat": 4,
  "nbformat_minor": 0,
  "metadata": {
    "colab": {
      "name": "CNN for image classification on CIFAR-10 dataset.ipynb",
      "provenance": [],
      "collapsed_sections": []
    },
    "kernelspec": {
      "name": "python3",
      "display_name": "Python 3"
    },
    "language_info": {
      "name": "python"
    },
    "widgets": {
      "application/vnd.jupyter.widget-state+json": {
        "34435e0a4d804888b494a996ea2c11e7": {
          "model_module": "@jupyter-widgets/controls",
          "model_name": "HBoxModel",
          "model_module_version": "1.5.0",
          "state": {
            "_dom_classes": [],
            "_model_module": "@jupyter-widgets/controls",
            "_model_module_version": "1.5.0",
            "_model_name": "HBoxModel",
            "_view_count": null,
            "_view_module": "@jupyter-widgets/controls",
            "_view_module_version": "1.5.0",
            "_view_name": "HBoxView",
            "box_style": "",
            "children": [
              "IPY_MODEL_5b782bdfae8e44ab9e8f23d7f8977cfa",
              "IPY_MODEL_8639fac46171407ab46dc73f5a3b9c42",
              "IPY_MODEL_4d07eaace6414fcfae4c79079ee7c290"
            ],
            "layout": "IPY_MODEL_d6e2e0df40fd4c7b9c1c5803409baf7c"
          }
        },
        "5b782bdfae8e44ab9e8f23d7f8977cfa": {
          "model_module": "@jupyter-widgets/controls",
          "model_name": "HTMLModel",
          "model_module_version": "1.5.0",
          "state": {
            "_dom_classes": [],
            "_model_module": "@jupyter-widgets/controls",
            "_model_module_version": "1.5.0",
            "_model_name": "HTMLModel",
            "_view_count": null,
            "_view_module": "@jupyter-widgets/controls",
            "_view_module_version": "1.5.0",
            "_view_name": "HTMLView",
            "description": "",
            "description_tooltip": null,
            "layout": "IPY_MODEL_d5f3989aa17d476d82d0151d7e5c0831",
            "placeholder": "​",
            "style": "IPY_MODEL_b0a5524a113145369c8f2a17298b45e9",
            "value": ""
          }
        },
        "8639fac46171407ab46dc73f5a3b9c42": {
          "model_module": "@jupyter-widgets/controls",
          "model_name": "FloatProgressModel",
          "model_module_version": "1.5.0",
          "state": {
            "_dom_classes": [],
            "_model_module": "@jupyter-widgets/controls",
            "_model_module_version": "1.5.0",
            "_model_name": "FloatProgressModel",
            "_view_count": null,
            "_view_module": "@jupyter-widgets/controls",
            "_view_module_version": "1.5.0",
            "_view_name": "ProgressView",
            "bar_style": "success",
            "description": "",
            "description_tooltip": null,
            "layout": "IPY_MODEL_6dde472539444155a4ac1cc882580165",
            "max": 170498071,
            "min": 0,
            "orientation": "horizontal",
            "style": "IPY_MODEL_7ccda8b99c39444d905f381bc62b1e75",
            "value": 170498071
          }
        },
        "4d07eaace6414fcfae4c79079ee7c290": {
          "model_module": "@jupyter-widgets/controls",
          "model_name": "HTMLModel",
          "model_module_version": "1.5.0",
          "state": {
            "_dom_classes": [],
            "_model_module": "@jupyter-widgets/controls",
            "_model_module_version": "1.5.0",
            "_model_name": "HTMLModel",
            "_view_count": null,
            "_view_module": "@jupyter-widgets/controls",
            "_view_module_version": "1.5.0",
            "_view_name": "HTMLView",
            "description": "",
            "description_tooltip": null,
            "layout": "IPY_MODEL_e65ca7c77c47452c976aa3c2b20f2f19",
            "placeholder": "​",
            "style": "IPY_MODEL_7f072b5359ba4b5391eb52b3e596754f",
            "value": " 170499072/? [00:03&lt;00:00, 46513279.21it/s]"
          }
        },
        "d6e2e0df40fd4c7b9c1c5803409baf7c": {
          "model_module": "@jupyter-widgets/base",
          "model_name": "LayoutModel",
          "model_module_version": "1.2.0",
          "state": {
            "_model_module": "@jupyter-widgets/base",
            "_model_module_version": "1.2.0",
            "_model_name": "LayoutModel",
            "_view_count": null,
            "_view_module": "@jupyter-widgets/base",
            "_view_module_version": "1.2.0",
            "_view_name": "LayoutView",
            "align_content": null,
            "align_items": null,
            "align_self": null,
            "border": null,
            "bottom": null,
            "display": null,
            "flex": null,
            "flex_flow": null,
            "grid_area": null,
            "grid_auto_columns": null,
            "grid_auto_flow": null,
            "grid_auto_rows": null,
            "grid_column": null,
            "grid_gap": null,
            "grid_row": null,
            "grid_template_areas": null,
            "grid_template_columns": null,
            "grid_template_rows": null,
            "height": null,
            "justify_content": null,
            "justify_items": null,
            "left": null,
            "margin": null,
            "max_height": null,
            "max_width": null,
            "min_height": null,
            "min_width": null,
            "object_fit": null,
            "object_position": null,
            "order": null,
            "overflow": null,
            "overflow_x": null,
            "overflow_y": null,
            "padding": null,
            "right": null,
            "top": null,
            "visibility": null,
            "width": null
          }
        },
        "d5f3989aa17d476d82d0151d7e5c0831": {
          "model_module": "@jupyter-widgets/base",
          "model_name": "LayoutModel",
          "model_module_version": "1.2.0",
          "state": {
            "_model_module": "@jupyter-widgets/base",
            "_model_module_version": "1.2.0",
            "_model_name": "LayoutModel",
            "_view_count": null,
            "_view_module": "@jupyter-widgets/base",
            "_view_module_version": "1.2.0",
            "_view_name": "LayoutView",
            "align_content": null,
            "align_items": null,
            "align_self": null,
            "border": null,
            "bottom": null,
            "display": null,
            "flex": null,
            "flex_flow": null,
            "grid_area": null,
            "grid_auto_columns": null,
            "grid_auto_flow": null,
            "grid_auto_rows": null,
            "grid_column": null,
            "grid_gap": null,
            "grid_row": null,
            "grid_template_areas": null,
            "grid_template_columns": null,
            "grid_template_rows": null,
            "height": null,
            "justify_content": null,
            "justify_items": null,
            "left": null,
            "margin": null,
            "max_height": null,
            "max_width": null,
            "min_height": null,
            "min_width": null,
            "object_fit": null,
            "object_position": null,
            "order": null,
            "overflow": null,
            "overflow_x": null,
            "overflow_y": null,
            "padding": null,
            "right": null,
            "top": null,
            "visibility": null,
            "width": null
          }
        },
        "b0a5524a113145369c8f2a17298b45e9": {
          "model_module": "@jupyter-widgets/controls",
          "model_name": "DescriptionStyleModel",
          "model_module_version": "1.5.0",
          "state": {
            "_model_module": "@jupyter-widgets/controls",
            "_model_module_version": "1.5.0",
            "_model_name": "DescriptionStyleModel",
            "_view_count": null,
            "_view_module": "@jupyter-widgets/base",
            "_view_module_version": "1.2.0",
            "_view_name": "StyleView",
            "description_width": ""
          }
        },
        "6dde472539444155a4ac1cc882580165": {
          "model_module": "@jupyter-widgets/base",
          "model_name": "LayoutModel",
          "model_module_version": "1.2.0",
          "state": {
            "_model_module": "@jupyter-widgets/base",
            "_model_module_version": "1.2.0",
            "_model_name": "LayoutModel",
            "_view_count": null,
            "_view_module": "@jupyter-widgets/base",
            "_view_module_version": "1.2.0",
            "_view_name": "LayoutView",
            "align_content": null,
            "align_items": null,
            "align_self": null,
            "border": null,
            "bottom": null,
            "display": null,
            "flex": null,
            "flex_flow": null,
            "grid_area": null,
            "grid_auto_columns": null,
            "grid_auto_flow": null,
            "grid_auto_rows": null,
            "grid_column": null,
            "grid_gap": null,
            "grid_row": null,
            "grid_template_areas": null,
            "grid_template_columns": null,
            "grid_template_rows": null,
            "height": null,
            "justify_content": null,
            "justify_items": null,
            "left": null,
            "margin": null,
            "max_height": null,
            "max_width": null,
            "min_height": null,
            "min_width": null,
            "object_fit": null,
            "object_position": null,
            "order": null,
            "overflow": null,
            "overflow_x": null,
            "overflow_y": null,
            "padding": null,
            "right": null,
            "top": null,
            "visibility": null,
            "width": null
          }
        },
        "7ccda8b99c39444d905f381bc62b1e75": {
          "model_module": "@jupyter-widgets/controls",
          "model_name": "ProgressStyleModel",
          "model_module_version": "1.5.0",
          "state": {
            "_model_module": "@jupyter-widgets/controls",
            "_model_module_version": "1.5.0",
            "_model_name": "ProgressStyleModel",
            "_view_count": null,
            "_view_module": "@jupyter-widgets/base",
            "_view_module_version": "1.2.0",
            "_view_name": "StyleView",
            "bar_color": null,
            "description_width": ""
          }
        },
        "e65ca7c77c47452c976aa3c2b20f2f19": {
          "model_module": "@jupyter-widgets/base",
          "model_name": "LayoutModel",
          "model_module_version": "1.2.0",
          "state": {
            "_model_module": "@jupyter-widgets/base",
            "_model_module_version": "1.2.0",
            "_model_name": "LayoutModel",
            "_view_count": null,
            "_view_module": "@jupyter-widgets/base",
            "_view_module_version": "1.2.0",
            "_view_name": "LayoutView",
            "align_content": null,
            "align_items": null,
            "align_self": null,
            "border": null,
            "bottom": null,
            "display": null,
            "flex": null,
            "flex_flow": null,
            "grid_area": null,
            "grid_auto_columns": null,
            "grid_auto_flow": null,
            "grid_auto_rows": null,
            "grid_column": null,
            "grid_gap": null,
            "grid_row": null,
            "grid_template_areas": null,
            "grid_template_columns": null,
            "grid_template_rows": null,
            "height": null,
            "justify_content": null,
            "justify_items": null,
            "left": null,
            "margin": null,
            "max_height": null,
            "max_width": null,
            "min_height": null,
            "min_width": null,
            "object_fit": null,
            "object_position": null,
            "order": null,
            "overflow": null,
            "overflow_x": null,
            "overflow_y": null,
            "padding": null,
            "right": null,
            "top": null,
            "visibility": null,
            "width": null
          }
        },
        "7f072b5359ba4b5391eb52b3e596754f": {
          "model_module": "@jupyter-widgets/controls",
          "model_name": "DescriptionStyleModel",
          "model_module_version": "1.5.0",
          "state": {
            "_model_module": "@jupyter-widgets/controls",
            "_model_module_version": "1.5.0",
            "_model_name": "DescriptionStyleModel",
            "_view_count": null,
            "_view_module": "@jupyter-widgets/base",
            "_view_module_version": "1.2.0",
            "_view_name": "StyleView",
            "description_width": ""
          }
        }
      }
    }
  },
  "cells": [
    {
      "cell_type": "markdown",
      "source": [
        "## IMPORTING REQUIRED PACKAGES"
      ],
      "metadata": {
        "id": "rz0ee3y9avVk"
      }
    },
    {
      "cell_type": "code",
      "source": [
        "import numpy as np\n",
        "import matplotlib.pyplot as plt\n",
        "import torch\n",
        "import torch.nn as nn\n",
        "import torch.nn.functional as F\n",
        "import torch.utils.data\n",
        "import torchvision.datasets as datasets\n",
        "import torchvision.transforms as transforms"
      ],
      "metadata": {
        "id": "7pU5MSfdm31x"
      },
      "execution_count": null,
      "outputs": []
    },
    {
      "cell_type": "markdown",
      "source": [
        "## DEFINING OUR MLP AND CNN NETWORKS"
      ],
      "metadata": {
        "id": "-3p0KhfVa6Rv"
      }
    },
    {
      "cell_type": "code",
      "source": [
        "#defining our multi-layer perceptron with two fully connected layers with 512 nodes\n",
        "class mlp_nn(nn.Module):\n",
        "    def __init__(self, inp_dim, h_nodes=512):\n",
        "        super(mlp_nn, self).__init__()\n",
        "        self.fc1 = nn.Linear(inp_dim, h_nodes)\n",
        "        self.fc2 = nn.Linear(h_nodes, h_nodes)\n",
        "        self.fc3 = nn.Linear(h_nodes, 10)\n",
        "        self.inp_dim = inp_dim\n",
        "\n",
        "    def forward(self, x):\n",
        "        x = x.view(-1, self.inp_dim)\n",
        "        x = torch.sigmoid(self.fc1(x)) #using sigmoid activation function\n",
        "        x = torch.sigmoid(self.fc2(x))\n",
        "        x = self.fc3(x)\n",
        "        return x\n",
        "\n",
        "#defining our multi-layer perceptron with two fully connected layers with 1024 and 512 nodes\n",
        "class mlp_nn2(nn.Module):\n",
        "    def __init__(self, inp_dim, h_nodes=None):\n",
        "        super(mlp_nn2, self).__init__()\n",
        "        if h_nodes is None:\n",
        "            h_nodes = [1024, 512]\n",
        "        self.fc1 = nn.Linear(inp_dim, h_nodes[0])\n",
        "        self.fc2 = nn.Linear(h_nodes[0], h_nodes[1])\n",
        "        self.fc3 = nn.Linear(h_nodes[1], 10)\n",
        "        self.inp_dim = inp_dim\n",
        "\n",
        "    def forward(self, x):\n",
        "        x = x.view(-1, self.inp_dim)\n",
        "        x = torch.sigmoid(self.fc1(x)) #using sigmoid activation function\n",
        "        x = torch.sigmoid(self.fc2(x))\n",
        "        x = self.fc3(x)\n",
        "        return x\n",
        "\n",
        "\n",
        "#defining our multi-layer perceptron with three fully connected layers with 1024,512 and 512 nodes respectively\n",
        "class mlp_nn3(nn.Module):\n",
        "    def __init__(self, inp_dim, h_nodes=None):\n",
        "        super(mlp_nn3, self).__init__()\n",
        "        if h_nodes is None:\n",
        "            h_nodes = [1024, 512, 512]\n",
        "        self.fc1 = nn.Linear(inp_dim, h_nodes[0])\n",
        "        self.fc2 = nn.Linear(h_nodes[0], h_nodes[1])\n",
        "        self.fc3 = nn.Linear(h_nodes[1], h_nodes[2])\n",
        "        self.fc4 = nn.Linear(h_nodes[2], 10)\n",
        "        self.inp_dim = inp_dim\n",
        "\n",
        "    def forward(self, x):\n",
        "        x = x.view(-1, self.inp_dim)\n",
        "        x = torch.sigmoid(self.fc1(x)) #using sigmoid activation function\n",
        "        x = torch.sigmoid(self.fc2(x))\n",
        "        x = torch.sigmoid(self.fc3(x))\n",
        "        x = self.fc4(x)\n",
        "        return x\n",
        "\n",
        "#defining our first convolutional neural network with conv layers of 64 filters and two dense layers with 512 nodes\n",
        "class CNN1(nn.Module):\n",
        "    def __init__(self):\n",
        "        super(CNN1, self).__init__()\n",
        "        self.conv1 = nn.Conv2d(3, 64, 3, 1, 1)\n",
        "        self.conv2 = nn.Conv2d(64, 64, 3, 1, 1)\n",
        "        self.fc1 = nn.Linear(64*32*32, 512)\n",
        "        self.fc2 = nn.Linear(512, 512)\n",
        "        self.fc3 = nn.Linear(512, 10)\n",
        "\n",
        "    def forward(self, x):\n",
        "        x = F.relu(self.conv1(x)) #using ReLU activation function for the conv layers\n",
        "        x = F.relu(self.conv2(x))\n",
        "        x = x.view(-1, 64*32*32)\n",
        "        x = torch.sigmoid(self.fc1(x)) #using sigmoid activation function for the dense layers\n",
        "        x = torch.sigmoid(self.fc2(x))\n",
        "        x = self.fc3(x)\n",
        "        return x\n",
        "\n",
        "#defining our second convolutional neural network with conv layers of 64 filters and two dense layers with 512 nodes\n",
        "class CNN2(nn.Module):\n",
        "    def __init__(self):\n",
        "        super(CNN2, self).__init__()\n",
        "        self.conv1 = nn.Conv2d(3, 64, 3, 1, 1)\n",
        "        self.conv2 = nn.Conv2d(64, 64, 3, 1, 1)\n",
        "        self.fc1 = nn.Linear(64 * 8 * 8, 512)\n",
        "        self.fc2 = nn.Linear(512, 512)\n",
        "        self.fc3 = nn.Linear(512, 10)\n",
        "\n",
        "    def forward(self, x):\n",
        "        x = F.max_pool2d(F.relu(self.conv1(x)), (2, 2)) #using ReLU activation function for the conv layers\n",
        "        x = F.max_pool2d(F.relu(self.conv2(x)), (2, 2))\n",
        "        x = x.view(-1, 64*8*8)\n",
        "        x = torch.sigmoid(self.fc1(x)) #using sigmoid activation function for the dense layers\n",
        "        x = F.dropout(x, 0.2)          #assigning a drop out rate of 0.2\n",
        "        x = torch.sigmoid(self.fc2(x))\n",
        "        x = F.dropout(x, 0.2)\n",
        "        x = self.fc3(x)\n",
        "        return x"
      ],
      "metadata": {
        "id": "Z6P1tlNFnJF9"
      },
      "execution_count": null,
      "outputs": []
    },
    {
      "cell_type": "markdown",
      "source": [
        "## DEFINING FUNCTIONS FOR TRAINING AND PREDICTING USING OUR MODELS"
      ],
      "metadata": {
        "id": "4pjb2eXRozFJ"
      }
    },
    {
      "cell_type": "code",
      "source": [
        "#defining fucntion to train our model and running it for 5 epochs\n",
        "def train(model, optimizer, loss_func, traindata_loader, valdata_loader=None, epochs=5):\n",
        "    device = torch.device(\"cuda\" if torch.cuda.is_available() else \"cpu\") #device function used to specify CPU or GPU\n",
        "    model = model.to(device)\n",
        "    train_losses = []\n",
        "    train_accuracies = []\n",
        "    val_losses = []\n",
        "    val_accuracies = []\n",
        "    for epoch in range(1, epochs+1):\n",
        "        model.train()\n",
        "        train_loss = 0\n",
        "        correct = 0\n",
        "        for batch_idx, (data, target) in enumerate(traindata_loader):\n",
        "            data, target = data.to(device), target.to(device)\n",
        "            optimizer.zero_grad()\n",
        "            output = model(data)\n",
        "            pred = output.max(1, keepdim=True)[1]\n",
        "            correct += pred.eq(target.view_as(pred)).sum().item()\n",
        "            loss = loss_func(output, target) #calculating the loss for our train model\n",
        "            loss.backward()\n",
        "            optimizer.step()\n",
        "            train_loss += loss.item()\n",
        "        train_losses.append(train_loss)                             \n",
        "        accuracy = correct / len(traindata_loader.dataset) #calculating accuracy for our train model\n",
        "        train_accuracies.append(accuracy)\n",
        "        print('Train Epoch: %i, Train Loss: %f, Train Accuracy: %f' % (epoch, train_loss, accuracy))\n",
        "        if valdata_loader is not None:\n",
        "            model.eval()\n",
        "            val_loss = 0\n",
        "            correct = 0\n",
        "            with torch.no_grad():\n",
        "                for batch_idx, (data, target) in enumerate(valdata_loader):\n",
        "                    data, target = data.to(device), target.to(device)\n",
        "                    output = model(data)\n",
        "                    pred = output.max(1, keepdim=True)[1]\n",
        "                    correct += pred.eq(target.view_as(pred)).sum().item()\n",
        "                    loss = loss_func(output, target) #calculating the loss for our val model\n",
        "                    val_loss += loss.item()\n",
        "            val_losses.append(val_loss)\n",
        "            accuracy = correct / len(valdata_loader.dataset) #calculating accuracy for our val model\n",
        "            val_accuracies.append(accuracy)\n",
        "            print('Val Epoch:   %i, Val Loss: %f, Val Accuracy: %f' % (epoch, val_loss, accuracy))\n",
        "    return train_losses, train_accuracies, val_losses, val_accuracies\n",
        "\n",
        "#defining predict function for predicting on our test data\n",
        "def predict(model, loss_func, test_loader):\n",
        "    device = torch.device(\"cuda\" if torch.cuda.is_available() else \"cpu\") #device function used to specify CPU or GPU        \n",
        "    model.eval()\n",
        "    test_loss = 0\n",
        "    correct = 0\n",
        "    with torch.no_grad():\n",
        "        for batch_idx, (data, target) in enumerate(test_loader):\n",
        "            data, target = data.to(device), target.to(device)\n",
        "            output = model(data)\n",
        "            pred = output.max(1, keepdim=True)[1]\n",
        "            correct += pred.eq(target.view_as(pred)).sum().item()\n",
        "            loss = loss_func(output, target) #calculating the loss for our test data model\n",
        "            test_loss += loss.item()\n",
        "    accuracy = correct / len(test_loader.dataset) #calculating accuracy for our test data model\n",
        "    print('Test Loss: %f, Test Accuracy: %f' % (test_loss, accuracy))"
      ],
      "metadata": {
        "id": "e_9t4CxonzH-"
      },
      "execution_count": null,
      "outputs": []
    },
    {
      "cell_type": "markdown",
      "source": [
        "## GENERATING OUR FINAL DATASET"
      ],
      "metadata": {
        "id": "_mDxZaMKq7ru"
      }
    },
    {
      "cell_type": "code",
      "source": [
        "#loading the CIFAR10 dataset for our training and test dataset\n",
        "train_set = datasets.CIFAR10(root='./data/', train=True, download=True, transform=transforms.Compose([transforms.ToTensor(), \n",
        "                                                                                                      transforms.Normalize((0.5, 0.5, 0.5), (0.5, 0.5, 0.5))]))\n",
        "test_set_ = datasets.CIFAR10(root='./data/', train=False, download=True, transform=transforms.Compose([transforms.ToTensor(), \n",
        "                                                                                                     transforms.Normalize((0.5, 0.5, 0.5), (0.5, 0.5, 0.5))]))\n",
        "n_train = len(train_set)\n",
        "batch_size = 32\n",
        "split = n_train // 5 #taking 20% (1/5) of our original training data\n",
        "indices = np.random.permutation(n_train)\n",
        "subset_sampler = torch.utils.data.sampler.SubsetRandomSampler(indices[:split]) #randomly sampling the 20% of our original training data \n",
        "traindata_loader = torch.utils.data.DataLoader(train_set, batch_size=batch_size, sampler=subset_sampler) #storing our new training data as traindata_loader\n",
        "n_test = len(test_set_)\n",
        "val_set, test_set = torch.utils.data.random_split(test_set_, [n_test//2, n_test//2]) #splitting original test data into validation and new test dataset\n",
        "valdata_loader = torch.utils.data.DataLoader(val_set, batch_size=batch_size, shuffle=True)\n",
        "test_loader = torch.utils.data.DataLoader(test_set, batch_size=batch_size, shuffle=True)"
      ],
      "metadata": {
        "colab": {
          "base_uri": "https://localhost:8080/",
          "height": 101,
          "referenced_widgets": [
            "34435e0a4d804888b494a996ea2c11e7",
            "5b782bdfae8e44ab9e8f23d7f8977cfa",
            "8639fac46171407ab46dc73f5a3b9c42",
            "4d07eaace6414fcfae4c79079ee7c290",
            "d6e2e0df40fd4c7b9c1c5803409baf7c",
            "d5f3989aa17d476d82d0151d7e5c0831",
            "b0a5524a113145369c8f2a17298b45e9",
            "6dde472539444155a4ac1cc882580165",
            "7ccda8b99c39444d905f381bc62b1e75",
            "e65ca7c77c47452c976aa3c2b20f2f19",
            "7f072b5359ba4b5391eb52b3e596754f"
          ]
        },
        "id": "qaP6BAvRoHxB",
        "outputId": "84c70ebb-842d-4189-91e9-797dcd66f770"
      },
      "execution_count": null,
      "outputs": [
        {
          "output_type": "stream",
          "name": "stdout",
          "text": [
            "Downloading https://www.cs.toronto.edu/~kriz/cifar-10-python.tar.gz to ./data/cifar-10-python.tar.gz\n"
          ]
        },
        {
          "output_type": "display_data",
          "data": {
            "text/plain": [
              "  0%|          | 0/170498071 [00:00<?, ?it/s]"
            ],
            "application/vnd.jupyter.widget-view+json": {
              "version_major": 2,
              "version_minor": 0,
              "model_id": "34435e0a4d804888b494a996ea2c11e7"
            }
          },
          "metadata": {}
        },
        {
          "output_type": "stream",
          "name": "stdout",
          "text": [
            "Extracting ./data/cifar-10-python.tar.gz to ./data/\n",
            "Files already downloaded and verified\n"
          ]
        }
      ]
    },
    {
      "cell_type": "code",
      "source": [
        "device = torch.device(\"cuda\" if torch.cuda.is_available() else \"cpu\") #device function used to specify CPU or GPU \n",
        "inp_dim = train_set.data[0].reshape((-1, 1)).shape[0]"
      ],
      "metadata": {
        "id": "MDdRBPZtoOEB"
      },
      "execution_count": null,
      "outputs": []
    },
    {
      "cell_type": "markdown",
      "source": [
        "## RUNNING OUR DIFFERENT MLP MODELS"
      ],
      "metadata": {
        "id": "STsQe5IVygIl"
      }
    },
    {
      "cell_type": "code",
      "source": [
        "#calling our first MLP model with two layers of 512 nodes [512,512]\n",
        "model = mlp_nn(inp_dim, 512)\n",
        "\n",
        "learning_rate = 1e-4 #setting the learning rate\n",
        "optimizer = torch.optim.Adam(model.parameters(), lr=learning_rate) #using the adam optimizer             \n",
        "loss_func = nn.CrossEntropyLoss() #using cross entropy loss as our loss function\n",
        "\n",
        "#training the model and returning training, validation loss and accuracies for each epoch\n",
        "train_losses_512, train_accuracies_512, val_losses_512, val_accuracies_512 = train(model, optimizer, loss_func, traindata_loader, valdata_loader, 5)  \n",
        "\n",
        "#calling the predict function to return the model's test loss and accuracy\n",
        "predict(model, loss_func, test_loader)"
      ],
      "metadata": {
        "colab": {
          "base_uri": "https://localhost:8080/"
        },
        "id": "J22f_LyMoSqH",
        "outputId": "c4188ac2-fa32-4c94-bd12-d5c172b06f18"
      },
      "execution_count": null,
      "outputs": [
        {
          "output_type": "stream",
          "name": "stdout",
          "text": [
            "Train Epoch: 1, Train Loss: 655.187195, Train Accuracy: 0.049240\n",
            "Val Epoch:   1, Val Loss: 308.016603, Val Accuracy: 0.296400\n",
            "Train Epoch: 2, Train Loss: 594.337903, Train Accuracy: 0.065120\n",
            "Val Epoch:   2, Val Loss: 294.685175, Val Accuracy: 0.338800\n",
            "Train Epoch: 3, Train Loss: 569.767211, Train Accuracy: 0.072380\n",
            "Val Epoch:   3, Val Loss: 285.489869, Val Accuracy: 0.358600\n",
            "Train Epoch: 4, Train Loss: 553.798307, Train Accuracy: 0.075960\n",
            "Val Epoch:   4, Val Loss: 279.939363, Val Accuracy: 0.366000\n",
            "Train Epoch: 5, Train Loss: 541.047614, Train Accuracy: 0.079000\n",
            "Val Epoch:   5, Val Loss: 275.676880, Val Accuracy: 0.380200\n",
            "Test Loss: 273.750356, Test Accuracy: 0.383000\n"
          ]
        }
      ]
    },
    {
      "cell_type": "code",
      "source": [
        "#calling our second MLP model with two layers of 1024 nodes and 512 nodes respectively[1024,512]\n",
        "model = mlp_nn(inp_dim, 1024)\n",
        "learning_rate = 1e-4 #setting the learning rate\n",
        "optimizer = torch.optim.Adam(model.parameters(), lr=learning_rate) #using the adam optimizer \n",
        "loss_func = nn.CrossEntropyLoss()  #using cross entropy loss as our loss function\n",
        "\n",
        "#training the model and returning training, validation loss and accuracies for each epoch                                             \n",
        "train_losses_1024, train_accuracies_1024, val_losses_1024, val_accuracies_1024 = train(model, optimizer, loss_func, traindata_loader, valdata_loader, 5)\n",
        "\n",
        "#calling the predict function to return the model's test loss and accuracy\n",
        "predict(model, loss_func, test_loader)"
      ],
      "metadata": {
        "colab": {
          "base_uri": "https://localhost:8080/"
        },
        "id": "IWvErJI8p9u1",
        "outputId": "170d6c99-e325-49cd-eda0-029652717167"
      },
      "execution_count": null,
      "outputs": [
        {
          "output_type": "stream",
          "name": "stdout",
          "text": [
            "Train Epoch: 1, Train Loss: 638.253250, Train Accuracy: 0.050760\n",
            "Val Epoch:   1, Val Loss: 300.140049, Val Accuracy: 0.298800\n",
            "Train Epoch: 2, Train Loss: 578.578336, Train Accuracy: 0.070460\n",
            "Val Epoch:   2, Val Loss: 286.361375, Val Accuracy: 0.356400\n",
            "Train Epoch: 3, Train Loss: 556.421720, Train Accuracy: 0.074000\n",
            "Val Epoch:   3, Val Loss: 281.391019, Val Accuracy: 0.364400\n",
            "Train Epoch: 4, Train Loss: 541.917225, Train Accuracy: 0.078620\n",
            "Val Epoch:   4, Val Loss: 274.790827, Val Accuracy: 0.379200\n",
            "Train Epoch: 5, Train Loss: 528.923713, Train Accuracy: 0.081920\n",
            "Val Epoch:   5, Val Loss: 273.450282, Val Accuracy: 0.392000\n",
            "Test Loss: 270.626002, Test Accuracy: 0.390600\n"
          ]
        }
      ]
    },
    {
      "cell_type": "code",
      "source": [
        "#calling our third MLP model with two layers of 1024 nodes [1024,1024]\n",
        "model = mlp_nn2(inp_dim=inp_dim)\n",
        "learning_rate = 1e-4 #setting the learning rate\n",
        "optimizer = torch.optim.Adam(model.parameters(), lr=learning_rate)  #using the adam optimizer              \n",
        "loss_func = nn.CrossEntropyLoss() #using cross entropy loss as our loss function    \n",
        "\n",
        "#training the model and returning training, validation loss and accuracies for each epoch \n",
        "train_losses_1024_2, train_accuracies_1024_2, val_losses_1024_2, val_accuracies_1024_2 = train(model, optimizer, loss_func, traindata_loader, valdata_loader, 5)\n",
        "\n",
        "#calling the predict function to return the model's test loss and accuracy\n",
        "predict(model, loss_func, test_loader)"
      ],
      "metadata": {
        "colab": {
          "base_uri": "https://localhost:8080/"
        },
        "id": "9YUu23RnrDro",
        "outputId": "6d457c8f-3153-4007-b0fd-b994d7e8415f"
      },
      "execution_count": null,
      "outputs": [
        {
          "output_type": "stream",
          "name": "stdout",
          "text": [
            "Train Epoch: 1, Train Loss: 642.696610, Train Accuracy: 0.051600\n",
            "Val Epoch:   1, Val Loss: 302.146559, Val Accuracy: 0.311000\n",
            "Train Epoch: 2, Train Loss: 583.057743, Train Accuracy: 0.069480\n",
            "Val Epoch:   2, Val Loss: 288.822357, Val Accuracy: 0.357800\n",
            "Train Epoch: 3, Train Loss: 559.515563, Train Accuracy: 0.074120\n",
            "Val Epoch:   3, Val Loss: 281.489325, Val Accuracy: 0.365600\n",
            "Train Epoch: 4, Train Loss: 543.495817, Train Accuracy: 0.078700\n",
            "Val Epoch:   4, Val Loss: 275.307576, Val Accuracy: 0.384400\n",
            "Train Epoch: 5, Train Loss: 530.976310, Train Accuracy: 0.081360\n",
            "Val Epoch:   5, Val Loss: 272.429591, Val Accuracy: 0.384200\n",
            "Test Loss: 270.636827, Test Accuracy: 0.393600\n"
          ]
        }
      ]
    },
    {
      "cell_type": "code",
      "source": [
        "#calling our final MLP model with three layers of 1024,512 and 512 nodes [1024,512,512]\n",
        "model = mlp_nn3(inp_dim=inp_dim)\n",
        "learning_rate = 1e-4 #setting the learning rate\n",
        "optimizer = torch.optim.Adam(model.parameters(), lr=learning_rate) #using the adam optimizer \n",
        "loss_func = nn.CrossEntropyLoss()  #using cross entropy loss as our loss function \n",
        "\n",
        "#training the model and returning training, validation loss and accuracies for each epoch \n",
        "train_losses_512_2, train_accuracies_512_2, val_losses_512_2, val_accuracies_512_2 = train(model, optimizer, loss_func, traindata_loader, valdata_loader, 5)\n",
        "\n",
        "#calling the predict function to return the model's test loss and accuracy\n",
        "predict(model, loss_func, test_loader)"
      ],
      "metadata": {
        "colab": {
          "base_uri": "https://localhost:8080/"
        },
        "id": "um0XUA4crRVo",
        "outputId": "550868d4-77f7-4d28-9ade-327540c9abae"
      },
      "execution_count": null,
      "outputs": [
        {
          "output_type": "stream",
          "name": "stdout",
          "text": [
            "Train Epoch: 1, Train Loss: 669.887305, Train Accuracy: 0.038420\n",
            "Val Epoch:   1, Val Loss: 315.593537, Val Accuracy: 0.244800\n",
            "Train Epoch: 2, Train Loss: 609.106185, Train Accuracy: 0.056100\n",
            "Val Epoch:   2, Val Loss: 301.391151, Val Accuracy: 0.296800\n",
            "Train Epoch: 3, Train Loss: 586.220120, Train Accuracy: 0.064960\n",
            "Val Epoch:   3, Val Loss: 294.732091, Val Accuracy: 0.311400\n",
            "Train Epoch: 4, Train Loss: 568.822769, Train Accuracy: 0.069540\n",
            "Val Epoch:   4, Val Loss: 287.007657, Val Accuracy: 0.342800\n",
            "Train Epoch: 5, Train Loss: 553.791431, Train Accuracy: 0.073480\n",
            "Val Epoch:   5, Val Loss: 281.196638, Val Accuracy: 0.356400\n",
            "Test Loss: 277.125726, Test Accuracy: 0.366200\n"
          ]
        }
      ]
    },
    {
      "cell_type": "markdown",
      "source": [
        "## PLOTTING TRAINING AND VALIDATION ACCURACIES FOR OUR 4 DIFFERENT MLP MODELS"
      ],
      "metadata": {
        "id": "-joMzceQ1XkF"
      }
    },
    {
      "cell_type": "code",
      "source": [
        "#plotting training accuracy for different MLP models\n",
        "plt.title('Training accuracy for different MLP features')\n",
        "plt.plot([i+1 for i in range(5)], train_accuracies_512,'-g')\n",
        "plt.plot([i+1 for i in range(5)], train_accuracies_1024,'-r')\n",
        "plt.plot([i+1 for i in range(5)], train_accuracies_1024_2) \n",
        "plt.plot([i+1 for i in range(5)], train_accuracies_512_2)\n",
        "plt.xlabel('Epochs')\n",
        "plt.ylabel('Training accuracy')                                                 \n",
        "plt.legend(['Train accuracy - 2 layers ([512,512])', 'Train accuracy - 2 layers ([1024,1024])', 'Train accuracy - 2 layers ([1024,512])', 'Train accuracy - 3 layers ([1024,512,512])'])\n",
        "plt.show()"
      ],
      "metadata": {
        "colab": {
          "base_uri": "https://localhost:8080/",
          "height": 295
        },
        "id": "7xYZd_MbrVaY",
        "outputId": "965dab5f-0831-443f-fc25-de17956ff7ba"
      },
      "execution_count": null,
      "outputs": [
        {
          "output_type": "display_data",
          "data": {
            "text/plain": [
              "<Figure size 432x288 with 1 Axes>"
            ],
            "image/png": "[encoded data removed]"
          },
          "metadata": {
            "needs_background": "light"
          }
        }
      ]
    },
    {
      "cell_type": "code",
      "source": [
        "#plotting validation accuracy for different MLP models\n",
        "plt.title('Validation accuracy for different MLP features')                   \n",
        "plt.plot([i+1 for i in range(5)], val_accuracies_512,'-g')                      \n",
        "plt.plot([i+1 for i in range(5)], val_accuracies_1024,'-r')                     \n",
        "plt.plot([i+1 for i in range(5)], val_accuracies_1024_2)                        \n",
        "plt.plot([i+1 for i in range(5)], val_accuracies_512_2)                          \n",
        "plt.xlabel('Epochs')                                                            \n",
        "plt.ylabel('Validation accuracy')                                               \n",
        "plt.legend(['Validation accuracy - 2 layers ([512,512])', 'Validation accuracy - 2 layers ([1024,1024])', 'Validation accuracy - 2 layers ([1024,512])', 'Validation accuracy - 3 layers([1024,512,512])'])\n",
        "plt.show()                                                                                        "
      ],
      "metadata": {
        "colab": {
          "base_uri": "https://localhost:8080/",
          "height": 295
        },
        "id": "vs69TboCrf09",
        "outputId": "0028b190-7788-4635-f951-2c940095df9a"
      },
      "execution_count": null,
      "outputs": [
        {
          "output_type": "display_data",
          "data": {
            "text/plain": [
              "<Figure size 432x288 with 1 Axes>"
            ],
            "image/png": "[encoded data removed]"
          },
          "metadata": {
            "needs_background": "light"
          }
        }
      ]
    },
    {
      "cell_type": "markdown",
      "source": [
        "## RUNNING OUR TWO CNN MODELS"
      ],
      "metadata": {
        "id": "kCPlrcRR3rS0"
      }
    },
    {
      "cell_type": "code",
      "source": [
        "#calling our first CNN network with conv layers of 64 filters and two dense layers with 512 nodes\n",
        "model = CNN1()\n",
        "model = model.to(device)                                                                              \n",
        "learning_rate = 1e-4 #setting the learning rate\n",
        "optimizer = torch.optim.Adam(model.parameters(), lr=learning_rate) #using the adam optimizer \n",
        "loss_func = nn.CrossEntropyLoss() #using cross entropy loss as our loss function\n",
        "\n",
        "#training the model and returning training, validation loss and accuracies for each epoch\n",
        "train_losses_cnn1, train_accuracies_cnn1,  val_losses_cnn1, val_accuracies_cnn1 = train(model, optimizer, loss_func, traindata_loader, valdata_loader)\n",
        "\n",
        "#calling the predict function to return the model's test loss and accuracy\n",
        "predict(model, loss_func, test_loader)"
      ],
      "metadata": {
        "colab": {
          "base_uri": "https://localhost:8080/"
        },
        "id": "nHBS1hNSrtW9",
        "outputId": "8cb9d5bb-4250-495f-cf01-db7e28835ff6"
      },
      "execution_count": null,
      "outputs": [
        {
          "output_type": "stream",
          "name": "stdout",
          "text": [
            "Train Epoch: 1, Train Loss: 621.818322, Train Accuracy: 0.059520\n",
            "Val Epoch:   1, Val Loss: 283.647261, Val Accuracy: 0.372000\n",
            "Train Epoch: 2, Train Loss: 520.060606, Train Accuracy: 0.083600\n",
            "Val Epoch:   2, Val Loss: 245.040213, Val Accuracy: 0.440600\n",
            "Train Epoch: 3, Train Loss: 462.824163, Train Accuracy: 0.095220\n",
            "Val Epoch:   3, Val Loss: 229.033404, Val Accuracy: 0.476000\n",
            "Train Epoch: 4, Train Loss: 420.328333, Train Accuracy: 0.104520\n",
            "Val Epoch:   4, Val Loss: 223.058940, Val Accuracy: 0.483800\n",
            "Train Epoch: 5, Train Loss: 382.822867, Train Accuracy: 0.113660\n",
            "Val Epoch:   5, Val Loss: 207.170175, Val Accuracy: 0.526400\n",
            "Test Loss: 208.918564, Test Accuracy: 0.520000\n"
          ]
        }
      ]
    },
    {
      "cell_type": "code",
      "source": [
        "#calling our second CNN network with conv layers of 64 filters and two dense layers with 512 nodes\n",
        "model = CNN2()\n",
        "model = model.to(device)                                                        \n",
        "learning_rate = 1e-4 #setting the learning rate\n",
        "optimizer = torch.optim.Adam(model.parameters(), lr=learning_rate) #using the adam optimizer \n",
        "loss_func = nn.CrossEntropyLoss() #using cross entropy loss as our loss function\n",
        "\n",
        "#training the model and returning training, validation loss and accuracies for each epoch\n",
        "train_losses_cnn2, train_accuracies_cnn2,  val_losses_cnn2, val_accuracies_cnn2 = train(model, optimizer, loss_func, traindata_loader, valdata_loader)\n",
        "\n",
        "#calling the predict function to return the model's test loss and accuracy\n",
        "predict(model, loss_func, test_loader)"
      ],
      "metadata": {
        "colab": {
          "base_uri": "https://localhost:8080/"
        },
        "id": "An3psWmvrwco",
        "outputId": "3fea8e24-b412-4de6-c6fe-b5451684cec5"
      },
      "execution_count": null,
      "outputs": [
        {
          "output_type": "stream",
          "name": "stdout",
          "text": [
            "Train Epoch: 1, Train Loss: 664.728028, Train Accuracy: 0.043780\n",
            "Val Epoch:   1, Val Loss: 308.259265, Val Accuracy: 0.290800\n",
            "Train Epoch: 2, Train Loss: 587.418724, Train Accuracy: 0.064740\n",
            "Val Epoch:   2, Val Loss: 284.513886, Val Accuracy: 0.354800\n",
            "Train Epoch: 3, Train Loss: 547.941668, Train Accuracy: 0.074900\n",
            "Val Epoch:   3, Val Loss: 267.274221, Val Accuracy: 0.393800\n",
            "Train Epoch: 4, Train Loss: 514.865102, Train Accuracy: 0.082040\n",
            "Val Epoch:   4, Val Loss: 252.280985, Val Accuracy: 0.409400\n",
            "Train Epoch: 5, Train Loss: 486.372839, Train Accuracy: 0.087960\n",
            "Val Epoch:   5, Val Loss: 240.595774, Val Accuracy: 0.450800\n",
            "Test Loss: 239.688155, Test Accuracy: 0.449400\n"
          ]
        }
      ]
    },
    {
      "cell_type": "markdown",
      "source": [
        "## PLOTTING TRAINING AND VALIDATION CURVES FOR OUR CNN MODELS"
      ],
      "metadata": {
        "id": "N5EMiqWB6dr0"
      }
    },
    {
      "cell_type": "code",
      "source": [
        "#plotting the train loss curve for our 2 CNN networks\n",
        "plt.title('Train loss curve')\n",
        "plt.plot([i+1 for i in range(5)], train_losses_cnn1,'g-')\n",
        "plt.plot([i+1 for i in range(5)], train_losses_cnn2,'r-')\n",
        "plt.xlabel('Epochs')                                    \n",
        "plt.ylabel('Training loss')\n",
        "plt.legend(['CNN1', 'CNN2'])\n",
        "plt.show()"
      ],
      "metadata": {
        "colab": {
          "base_uri": "https://localhost:8080/",
          "height": 295
        },
        "id": "5aBf61qwr-aR",
        "outputId": "618c6b3a-1640-4c48-9c15-ec48719c8658"
      },
      "execution_count": null,
      "outputs": [
        {
          "output_type": "display_data",
          "data": {
            "text/plain": [
              "<Figure size 432x288 with 1 Axes>"
            ],
            "image/png": "[encoded data removed]"
          },
          "metadata": {
            "needs_background": "light"
          }
        }
      ]
    },
    {
      "cell_type": "code",
      "source": [
        "#plotting the validation loss curve for our 2 CNN networks\n",
        "plt.title('Validation loss curve')\n",
        "plt.plot([i+1 for i in range(5)], val_losses_cnn1,'g-')\n",
        "plt.plot([i+1 for i in range(5)], val_losses_cnn2,'r-')\n",
        "plt.xlabel('Epochs')                                   \n",
        "plt.ylabel('Validation loss')\n",
        "plt.legend(['CNN1', 'CNN2'])\n",
        "plt.show()"
      ],
      "metadata": {
        "colab": {
          "base_uri": "https://localhost:8080/",
          "height": 295
        },
        "id": "9lON6B8ssDmP",
        "outputId": "a0a2626c-392f-4ce1-f3da-e4963aed441e"
      },
      "execution_count": null,
      "outputs": [
        {
          "output_type": "display_data",
          "data": {
            "text/plain": [
              "<Figure size 432x288 with 1 Axes>"
            ],
            "image/png": "[encoded data removed]"
          },
          "metadata": {
            "needs_background": "light"
          }
        }
      ]
    }
  ]
}